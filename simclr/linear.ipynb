{
 "cells": [
  {
   "cell_type": "code",
   "execution_count": 7,
   "metadata": {},
   "outputs": [],
   "source": [
    "import pandas as pd\n",
    "import torch\n",
    "import torch.nn as nn\n",
    "from tqdm import tqdm\n",
    "\n",
    "from model import Model\n",
    "\n",
    "\n",
    "class Net(nn.Module):\n",
    "    def __init__(self, num_class, pretrained_path):\n",
    "        super(Net, self).__init__()\n",
    "\n",
    "        # encoder\n",
    "        self.f = Model().f\n",
    "        # classifier\n",
    "        self.fc = nn.Linear(2048, num_class, bias=True)\n",
    "        self.load_state_dict(torch.load(pretrained_path, map_location='cpu'), strict=False)\n",
    "\n",
    "    def forward(self, x):\n",
    "        x = self.f(x)\n",
    "        feature = torch.flatten(x, start_dim=1)\n",
    "        out = self.fc(feature)\n",
    "        return out\n",
    "\n",
    "\n",
    "# train or test for one epoch\n",
    "def train_val(net, data_loader, train_optimizer=None):\n",
    "    is_train = train_optimizer is not None\n",
    "    net.train() if is_train else net.eval()\n",
    "\n",
    "    total_loss, total_correct_1, total_correct_5, total_num = 0.0, 0.0, 0.0, 0\n",
    "    data_bar = tqdm(data_loader, leave=False)\n",
    "    \n",
    "    with (torch.enable_grad() if is_train else torch.no_grad()):\n",
    "        for data, target in data_bar:\n",
    "            data, target = data.cuda(non_blocking=True), target.cuda(non_blocking=True)\n",
    "            out = net(data)\n",
    "            loss = loss_criterion(out, target)\n",
    "\n",
    "            if is_train:\n",
    "                train_optimizer.zero_grad()\n",
    "                loss.backward()\n",
    "                train_optimizer.step()\n",
    "\n",
    "            total_num += data.size(0)\n",
    "            total_loss += loss.item() * data.size(0)\n",
    "            prediction = torch.argsort(out, dim=-1, descending=True)\n",
    "            total_correct_1 += torch.sum((prediction[:, 0:1] == target.unsqueeze(dim=-1)).any(dim=-1).float()).item()\n",
    "            total_correct_5 += torch.sum((prediction[:, 0:5] == target.unsqueeze(dim=-1)).any(dim=-1).float()).item()\n",
    "        \n",
    "            if is_train:\n",
    "                data_bar.set_description(('Train Epoch : {}/{} Loss: {:.4f} ACC@1: {:.2f}% ACC@5: {:.2f}%'\n",
    "                                     .format(epoch, epochs, total_loss / total_num,\n",
    "                                             total_correct_1 / total_num * 100, total_correct_5 / total_num * 100)))\n",
    "            else:\n",
    "                data_bar.set_description(('Test Loss: {:.4f} ACC@1: {:.2f}% ACC@5: {:.2f}%'.format(total_loss / total_num,\n",
    "                                             total_correct_1 / total_num * 100, total_correct_5 / total_num * 100)))\n",
    "\n",
    "\n",
    "    return total_loss / total_num, total_correct_1 / total_num * 100, total_correct_5 / total_num * 100"
   ]
  },
  {
   "cell_type": "code",
   "execution_count": 10,
   "metadata": {},
   "outputs": [
    {
     "name": "stdout",
     "output_type": "stream",
     "text": [
      "Files already downloaded and verified\n"
     ]
    },
    {
     "name": "stderr",
     "output_type": "stream",
     "text": [
      "                                                                                                                 "
     ]
    },
    {
     "name": "stdout",
     "output_type": "stream",
     "text": [
      "86\n"
     ]
    },
    {
     "name": "stderr",
     "output_type": "stream",
     "text": [
      "\r"
     ]
    }
   ],
   "source": [
    "#변형된 데이터를 이용한 훈련\n",
    "\n",
    "from torchvision import transforms\n",
    "import torch.optim as optim\n",
    "from torch.utils.data import DataLoader\n",
    "from torchvision.datasets import CIFAR10\n",
    "import utils\n",
    "\n",
    "train_transform = transforms.Compose([\n",
    "    transforms.RandomResizedCrop(32),\n",
    "    transforms.RandomHorizontalFlip(p=0.5),\n",
    "    transforms.RandomApply([transforms.ColorJitter(0.4, 0.4, 0.4, 0.1)], p=0.8),\n",
    "    transforms.RandomGrayscale(p=0.2),\n",
    "    transforms.ToTensor(),\n",
    "    transforms.Normalize([0.4914, 0.4822, 0.4465], [0.2023, 0.1994, 0.2010])])\n",
    "\n",
    "batch_size, epochs = 128, 100\n",
    "model_path = 'results_batch32/model.pth'\n",
    "\n",
    "train_data = CIFAR10(root='.data/', train=True, transform=train_transform, download=True)\n",
    "\n",
    "train_loader, valid_loader = utils.create_datasets(batch_size, train_data)\n",
    "# model setup and optimizer config\n",
    "\n",
    "\n",
    "model = Net(num_class=len(train_data.classes), pretrained_path=model_path).cuda()\n",
    "for param in model.f.parameters():\n",
    "    param.requires_grad = False\n",
    "\n",
    "optimizer = optim.Adam(model.fc.parameters(), lr=1e-3, weight_decay=1e-6)\n",
    "loss_criterion = nn.CrossEntropyLoss()\n",
    "results = {'train_loss': [], 'train_acc@1': [], 'train_acc@5': [], 'valid_acc@1': []}\n",
    "\n",
    "best_acc = 0\n",
    "for epoch in range(1, epochs + 1):\n",
    "    train_loss, train_acc_1, train_acc_5 = train_val(model, train_loader, optimizer)\n",
    "    _, valid_acc_1, _ = train_val(model, valid_loader)\n",
    "    results['train_loss'].append(train_loss)\n",
    "    results['train_acc@1'].append(train_acc_1)\n",
    "    results['train_acc@5'].append(train_acc_5)\n",
    "    results['valid_acc@1'].append(valid_acc_1)\n",
    "    \n",
    "    if best_acc<valid_acc_1:\n",
    "        best_epoch = epoch\n",
    "        best_acc = valid_acc_1\n",
    "        torch.save(model.state_dict(), 'results_batch32/linear_model.pth')\n",
    "        \n",
    "        \n",
    "    data_frame = pd.DataFrame(data=results, index=range(1, epoch + 1))\n",
    "    data_frame.to_csv('results_batch32/linear_statistics.csv', index_label='epoch')\n",
    "\n",
    "print(best_epoch)"
   ]
  },
  {
   "cell_type": "code",
   "execution_count": 11,
   "metadata": {
    "scrolled": false
   },
   "outputs": [
    {
     "name": "stdout",
     "output_type": "stream",
     "text": [
      "Files already downloaded and verified\n"
     ]
    },
    {
     "name": "stderr",
     "output_type": "stream",
     "text": [
      "                                                                                              "
     ]
    },
    {
     "name": "stdout",
     "output_type": "stream",
     "text": [
      "{'test_loss': [0.455409330034256], 'test_acc@1': [83.99], 'test_acc@5': [99.41]}\n"
     ]
    },
    {
     "name": "stderr",
     "output_type": "stream",
     "text": [
      "\r"
     ]
    }
   ],
   "source": [
    "from torchvision import transforms\n",
    "\n",
    "batch_size = 128\n",
    "loss_criterion = nn.CrossEntropyLoss()\n",
    "\n",
    "test_transform = transforms.Compose([\n",
    "    transforms.ToTensor(),\n",
    "    transforms.Normalize([0.4914, 0.4822, 0.4465], [0.2023, 0.1994, 0.2010])])\n",
    "\n",
    "test_data = CIFAR10(root='.data/', train=False, transform=test_transform, download=True)\n",
    "test_loader = DataLoader(test_data, batch_size=batch_size, shuffle=False, num_workers=16, pin_memory=True)\n",
    "\n",
    "test_results = {'test_loss': [], 'test_acc@1': [], 'test_acc@5': []}\n",
    "model_path = 'results_batch32/linear_model.pth'\n",
    "model = Net(num_class=len(test_data.classes), pretrained_path=model_path).cuda()\n",
    "test_loss, test_acc_1, test_acc_5 = train_val(model, test_loader, None)\n",
    "test_results['test_loss'].append(test_loss)\n",
    "test_results['test_acc@1'].append(test_acc_1)\n",
    "test_results['test_acc@5'].append(test_acc_5)\n",
    "print(test_results)"
   ]
  }
 ],
 "metadata": {
  "kernelspec": {
   "display_name": "Python 3",
   "language": "python",
   "name": "python3"
  },
  "language_info": {
   "codemirror_mode": {
    "name": "ipython",
    "version": 3
   },
   "file_extension": ".py",
   "mimetype": "text/x-python",
   "name": "python",
   "nbconvert_exporter": "python",
   "pygments_lexer": "ipython3",
   "version": "3.8.5"
  }
 },
 "nbformat": 4,
 "nbformat_minor": 5
}
