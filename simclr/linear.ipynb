{
 "cells": [
  {
   "cell_type": "code",
   "execution_count": 7,
   "id": "intense-sociology",
   "metadata": {},
   "outputs": [],
   "source": [
    "import pandas as pd\n",
    "import torch\n",
    "import torch.nn as nn\n",
    "from tqdm import tqdm\n",
    "\n",
    "from model import Model\n",
    "\n",
    "\n",
    "class Net(nn.Module):\n",
    "    def __init__(self, num_class, pretrained_path):\n",
    "        super(Net, self).__init__()\n",
    "\n",
    "        # encoder\n",
    "        self.f = Model().f\n",
    "        # classifier\n",
    "        self.fc = nn.Linear(2048, num_class, bias=True)\n",
    "        self.load_state_dict(torch.load(pretrained_path, map_location='cpu'), strict=False)\n",
    "\n",
    "    def forward(self, x):\n",
    "        x = self.f(x)\n",
    "        feature = torch.flatten(x, start_dim=1)\n",
    "        out = self.fc(feature)\n",
    "        return out\n",
    "\n",
    "\n",
    "# train or test for one epoch\n",
    "def train_val(net, data_loader, train_optimizer=None):\n",
    "    is_train = train_optimizer is not None\n",
    "    net.train() if is_train else net.eval()\n",
    "\n",
    "    total_loss, total_correct_1, total_correct_5, total_num = 0.0, 0.0, 0.0, 0\n",
    "    data_bar = tqdm(data_loader, leave=False)\n",
    "    \n",
    "    with (torch.enable_grad() if is_train else torch.no_grad()):\n",
    "        for data, target in data_bar:\n",
    "            data, target = data.cuda(non_blocking=True), target.cuda(non_blocking=True)\n",
    "            out = net(data)\n",
    "            loss = loss_criterion(out, target)\n",
    "\n",
    "            if is_train:\n",
    "                train_optimizer.zero_grad()\n",
    "                loss.backward()\n",
    "                train_optimizer.step()\n",
    "\n",
    "            total_num += data.size(0)\n",
    "            total_loss += loss.item() * data.size(0)\n",
    "            prediction = torch.argsort(out, dim=-1, descending=True)\n",
    "            total_correct_1 += torch.sum((prediction[:, 0:1] == target.unsqueeze(dim=-1)).any(dim=-1).float()).item()\n",
    "            total_correct_5 += torch.sum((prediction[:, 0:5] == target.unsqueeze(dim=-1)).any(dim=-1).float()).item()\n",
    "        \n",
    "            if is_train:\n",
    "                data_bar.set_description(('Train Epoch : {}/{} Loss: {:.4f} ACC@1: {:.2f}% ACC@5: {:.2f}%'\n",
    "                                     .format(epoch, epochs, total_loss / total_num,\n",
    "                                             total_correct_1 / total_num * 100, total_correct_5 / total_num * 100)))\n",
    "            else:\n",
    "                data_bar.set_description(('Test Loss: {:.4f} ACC@1: {:.2f}% ACC@5: {:.2f}%'.format(total_loss / total_num,\n",
    "                                             total_correct_1 / total_num * 100, total_correct_5 / total_num * 100)))\n",
    "\n",
    "\n",
    "    return total_loss / total_num, total_correct_1 / total_num * 100, total_correct_5 / total_num * 100"
   ]
  },
  {
   "cell_type": "code",
   "execution_count": 10,
   "id": "alternate-progress",
   "metadata": {},
   "outputs": [
    {
     "name": "stdout",
     "output_type": "stream",
     "text": [
      "Files already downloaded and verified\n"
     ]
    },
    {
     "name": "stderr",
     "output_type": "stream",
     "text": [
      "                                                                                                                 "
     ]
    },
    {
     "name": "stdout",
     "output_type": "stream",
     "text": [
      "86\n"
     ]
    },
    {
     "name": "stderr",
     "output_type": "stream",
     "text": [
      "\r"
     ]
    }
   ],
   "source": [
    "#변형된 데이터를 이용한 훈련\n",
    "\n",
    "from torchvision import transforms\n",
    "import torch.optim as optim\n",
    "from torch.utils.data import DataLoader\n",
    "from torchvision.datasets import CIFAR10\n",
    "import utils\n",
    "\n",
    "train_transform = transforms.Compose([\n",
    "    transforms.RandomResizedCrop(32),\n",
    "    transforms.RandomHorizontalFlip(p=0.5),\n",
    "    transforms.RandomApply([transforms.ColorJitter(0.4, 0.4, 0.4, 0.1)], p=0.8),\n",
    "    transforms.RandomGrayscale(p=0.2),\n",
    "    transforms.ToTensor(),\n",
    "    transforms.Normalize([0.4914, 0.4822, 0.4465], [0.2023, 0.1994, 0.2010])])\n",
    "\n",
    "batch_size, epochs = 128, 100\n",
    "model_path = 'results_batch32/model.pth'\n",
    "\n",
    "train_data = CIFAR10(root='.data/', train=True, transform=train_transform, download=True)\n",
    "\n",
    "train_loader, valid_loader = utils.create_datasets(batch_size, train_data)\n",
    "# model setup and optimizer config\n",
    "\n",
    "\n",
    "model = Net(num_class=len(train_data.classes), pretrained_path=model_path).cuda()\n",
    "for param in model.f.parameters():\n",
    "    param.requires_grad = False\n",
    "\n",
    "optimizer = optim.Adam(model.fc.parameters(), lr=1e-3, weight_decay=1e-6)\n",
    "loss_criterion = nn.CrossEntropyLoss()\n",
    "results = {'train_loss': [], 'train_acc@1': [], 'train_acc@5': [], 'valid_acc@1': []}\n",
    "\n",
    "best_acc = 0\n",
    "for epoch in range(1, epochs + 1):\n",
    "    train_loss, train_acc_1, train_acc_5 = train_val(model, train_loader, optimizer)\n",
    "    _, valid_acc_1, _ = train_val(model, valid_loader)\n",
    "    results['train_loss'].append(train_loss)\n",
    "    results['train_acc@1'].append(train_acc_1)\n",
    "    results['train_acc@5'].append(train_acc_5)\n",
    "    results['valid_acc@1'].append(valid_acc_1)\n",
    "    \n",
    "    if best_acc<valid_acc_1:\n",
    "        best_epoch = epoch\n",
    "        best_acc = valid_acc_1\n",
    "        torch.save(model.state_dict(), 'results_batch32/linear_model.pth')\n",
    "        \n",
    "        \n",
    "    data_frame = pd.DataFrame(data=results, index=range(1, epoch + 1))\n",
    "    data_frame.to_csv('results_batch32/linear_statistics.csv', index_label='epoch')\n",
    "\n",
    "print(best_epoch)"
   ]
  },
  {
   "cell_type": "code",
   "execution_count": 11,
   "id": "bacterial-convert",
   "metadata": {
    "scrolled": false
   },
   "outputs": [
    {
     "name": "stdout",
     "output_type": "stream",
     "text": [
      "Files already downloaded and verified\n"
     ]
    },
    {
     "name": "stderr",
     "output_type": "stream",
     "text": [
      "                                                                                              "
     ]
    },
    {
     "name": "stdout",
     "output_type": "stream",
     "text": [
      "{'test_loss': [0.455409330034256], 'test_acc@1': [83.99], 'test_acc@5': [99.41]}\n"
     ]
    },
    {
     "name": "stderr",
     "output_type": "stream",
     "text": [
      "\r"
     ]
    }
   ],
   "source": [
    "from torchvision import transforms\n",
    "\n",
    "batch_size = 128\n",
    "loss_criterion = nn.CrossEntropyLoss()\n",
    "\n",
    "test_transform = transforms.Compose([\n",
    "    transforms.ToTensor(),\n",
    "    transforms.Normalize([0.4914, 0.4822, 0.4465], [0.2023, 0.1994, 0.2010])])\n",
    "\n",
    "test_data = CIFAR10(root='.data/', train=False, transform=test_transform, download=True)\n",
    "test_loader = DataLoader(test_data, batch_size=batch_size, shuffle=False, num_workers=16, pin_memory=True)\n",
    "\n",
    "test_results = {'test_loss': [], 'test_acc@1': [], 'test_acc@5': []}\n",
    "model_path = 'results_batch32/linear_model.pth'\n",
    "model = Net(num_class=len(test_data.classes), pretrained_path=model_path).cuda()\n",
    "test_loss, test_acc_1, test_acc_5 = train_val(model, test_loader, None)\n",
    "test_results['test_loss'].append(test_loss)\n",
    "test_results['test_acc@1'].append(test_acc_1)\n",
    "test_results['test_acc@5'].append(test_acc_5)\n",
    "print(test_results)"
   ]
  },
  {
   "cell_type": "markdown",
   "id": "blond-thanksgiving",
   "metadata": {},
   "source": [
    "# Transfer Learning"
   ]
  },
  {
   "cell_type": "code",
   "execution_count": 10,
   "id": "lesser-massachusetts",
   "metadata": {},
   "outputs": [
    {
     "name": "stdout",
     "output_type": "stream",
     "text": [
      "Files already downloaded and verified\n"
     ]
    },
    {
     "ename": "RuntimeError",
     "evalue": "version_number <= kMaxSupportedFileFormatVersion INTERNAL ASSERT FAILED at /tmp/pip-req-build-7mav6f4d/caffe2/serialize/inline_container.cc:131, please report a bug to PyTorch. Attempted to read a PyTorch file with version 3, but the maximum supported version for reading is 1. Your PyTorch installation may be too old. (init at /tmp/pip-req-build-7mav6f4d/caffe2/serialize/inline_container.cc:131)\nframe #0: c10::Error::Error(c10::SourceLocation, std::__cxx11::basic_string<char, std::char_traits<char>, std::allocator<char> > const&) + 0x6d (0x7f65d82b1e7d in /home/hong/anaconda3/envs/dmlab/lib/python3.7/site-packages/torch/lib/libc10.so)\nframe #1: caffe2::serialize::PyTorchStreamReader::init() + 0x246d (0x7f65c7a31bbd in /home/hong/anaconda3/envs/dmlab/lib/python3.7/site-packages/torch/lib/libtorch.so)\nframe #2: caffe2::serialize::PyTorchStreamReader::PyTorchStreamReader(std::__cxx11::basic_string<char, std::char_traits<char>, std::allocator<char> > const&) + 0x69 (0x7f65c7a33079 in /home/hong/anaconda3/envs/dmlab/lib/python3.7/site-packages/torch/lib/libtorch.so)\nframe #3: torch::jit::import_ir_module(std::shared_ptr<torch::jit::script::CompilationUnit>, std::__cxx11::basic_string<char, std::char_traits<char>, std::allocator<char> > const&, c10::optional<c10::Device>, std::unordered_map<std::__cxx11::basic_string<char, std::char_traits<char>, std::allocator<char> >, std::__cxx11::basic_string<char, std::char_traits<char>, std::allocator<char> >, std::hash<std::__cxx11::basic_string<char, std::char_traits<char>, std::allocator<char> > >, std::equal_to<std::__cxx11::basic_string<char, std::char_traits<char>, std::allocator<char> > >, std::allocator<std::pair<std::__cxx11::basic_string<char, std::char_traits<char>, std::allocator<char> > const, std::__cxx11::basic_string<char, std::char_traits<char>, std::allocator<char> > > > >&) + 0x4d (0x7f65c8bf93cd in /home/hong/anaconda3/envs/dmlab/lib/python3.7/site-packages/torch/lib/libtorch.so)\nframe #4: <unknown function> + 0x592fba (0x7f65ca9f0fba in /home/hong/anaconda3/envs/dmlab/lib/python3.7/site-packages/torch/lib/libtorch_python.so)\nframe #5: <unknown function> + 0x1df8b6 (0x7f65ca63d8b6 in /home/hong/anaconda3/envs/dmlab/lib/python3.7/site-packages/torch/lib/libtorch_python.so)\nframe #6: _PyMethodDef_RawFastCallKeywords + 0x274 (0x5655360c2914 in /home/hong/anaconda3/envs/dmlab/bin/python)\nframe #7: _PyCFunction_FastCallKeywords + 0x21 (0x5655360c2a31 in /home/hong/anaconda3/envs/dmlab/bin/python)\nframe #8: _PyEval_EvalFrameDefault + 0x4e1d (0x56553612eebd in /home/hong/anaconda3/envs/dmlab/bin/python)\nframe #9: _PyEval_EvalCodeWithName + 0x2f9 (0x565536071829 in /home/hong/anaconda3/envs/dmlab/bin/python)\nframe #10: _PyFunction_FastCallKeywords + 0x387 (0x5655360c2107 in /home/hong/anaconda3/envs/dmlab/bin/python)\nframe #11: _PyEval_EvalFrameDefault + 0x14e5 (0x56553612b585 in /home/hong/anaconda3/envs/dmlab/bin/python)\nframe #12: _PyEval_EvalCodeWithName + 0x5da (0x565536071b0a in /home/hong/anaconda3/envs/dmlab/bin/python)\nframe #13: _PyFunction_FastCallDict + 0x400 (0x565536072b50 in /home/hong/anaconda3/envs/dmlab/bin/python)\nframe #14: _PyObject_Call_Prepend + 0x63 (0x5655360914d3 in /home/hong/anaconda3/envs/dmlab/bin/python)\nframe #15: <unknown function> + 0x16bd5a (0x5655360c8d5a in /home/hong/anaconda3/envs/dmlab/bin/python)\nframe #16: _PyObject_FastCallKeywords + 0x128 (0x5655360c9968 in /home/hong/anaconda3/envs/dmlab/bin/python)\nframe #17: _PyEval_EvalFrameDefault + 0x55e8 (0x56553612f688 in /home/hong/anaconda3/envs/dmlab/bin/python)\nframe #18: _PyEval_EvalCodeWithName + 0x2f9 (0x565536071829 in /home/hong/anaconda3/envs/dmlab/bin/python)\nframe #19: PyEval_EvalCodeEx + 0x44 (0x565536072714 in /home/hong/anaconda3/envs/dmlab/bin/python)\nframe #20: PyEval_EvalCode + 0x1c (0x56553607273c in /home/hong/anaconda3/envs/dmlab/bin/python)\nframe #21: <unknown function> + 0x1dcf1d (0x565536139f1d in /home/hong/anaconda3/envs/dmlab/bin/python)\nframe #22: _PyMethodDef_RawFastCallKeywords + 0xe9 (0x5655360c2789 in /home/hong/anaconda3/envs/dmlab/bin/python)\nframe #23: _PyCFunction_FastCallKeywords + 0x21 (0x5655360c2a31 in /home/hong/anaconda3/envs/dmlab/bin/python)\nframe #24: _PyEval_EvalFrameDefault + 0x46f5 (0x56553612e795 in /home/hong/anaconda3/envs/dmlab/bin/python)\nframe #25: _PyGen_Send + 0x2a2 (0x5655360ca982 in /home/hong/anaconda3/envs/dmlab/bin/python)\nframe #26: _PyEval_EvalFrameDefault + 0x1a84 (0x56553612bb24 in /home/hong/anaconda3/envs/dmlab/bin/python)\nframe #27: _PyGen_Send + 0x2a2 (0x5655360ca982 in /home/hong/anaconda3/envs/dmlab/bin/python)\nframe #28: _PyEval_EvalFrameDefault + 0x1a84 (0x56553612bb24 in /home/hong/anaconda3/envs/dmlab/bin/python)\nframe #29: _PyGen_Send + 0x2a2 (0x5655360ca982 in /home/hong/anaconda3/envs/dmlab/bin/python)\nframe #30: _PyMethodDef_RawFastCallKeywords + 0x8d (0x5655360c272d in /home/hong/anaconda3/envs/dmlab/bin/python)\nframe #31: _PyMethodDescr_FastCallKeywords + 0x4f (0x5655360c97af in /home/hong/anaconda3/envs/dmlab/bin/python)\nframe #32: _PyEval_EvalFrameDefault + 0x4bdc (0x56553612ec7c in /home/hong/anaconda3/envs/dmlab/bin/python)\nframe #33: _PyFunction_FastCallKeywords + 0xfb (0x5655360c1e7b in /home/hong/anaconda3/envs/dmlab/bin/python)\nframe #34: _PyEval_EvalFrameDefault + 0x416 (0x56553612a4b6 in /home/hong/anaconda3/envs/dmlab/bin/python)\nframe #35: _PyFunction_FastCallKeywords + 0xfb (0x5655360c1e7b in /home/hong/anaconda3/envs/dmlab/bin/python)\nframe #36: _PyEval_EvalFrameDefault + 0x6a0 (0x56553612a740 in /home/hong/anaconda3/envs/dmlab/bin/python)\nframe #37: _PyEval_EvalCodeWithName + 0x2f9 (0x565536071829 in /home/hong/anaconda3/envs/dmlab/bin/python)\nframe #38: _PyFunction_FastCallDict + 0x400 (0x565536072b50 in /home/hong/anaconda3/envs/dmlab/bin/python)\nframe #39: _PyObject_Call_Prepend + 0x63 (0x5655360914d3 in /home/hong/anaconda3/envs/dmlab/bin/python)\nframe #40: PyObject_Call + 0x6e (0x565536083ffe in /home/hong/anaconda3/envs/dmlab/bin/python)\nframe #41: _PyEval_EvalFrameDefault + 0x1e4a (0x56553612beea in /home/hong/anaconda3/envs/dmlab/bin/python)\nframe #42: _PyEval_EvalCodeWithName + 0x5da (0x565536071b0a in /home/hong/anaconda3/envs/dmlab/bin/python)\nframe #43: _PyFunction_FastCallKeywords + 0x387 (0x5655360c2107 in /home/hong/anaconda3/envs/dmlab/bin/python)\nframe #44: _PyEval_EvalFrameDefault + 0x14e5 (0x56553612b585 in /home/hong/anaconda3/envs/dmlab/bin/python)\nframe #45: <unknown function> + 0x16d449 (0x5655360ca449 in /home/hong/anaconda3/envs/dmlab/bin/python)\nframe #46: _PyMethodDef_RawFastCallKeywords + 0xe9 (0x5655360c2789 in /home/hong/anaconda3/envs/dmlab/bin/python)\nframe #47: _PyCFunction_FastCallKeywords + 0x21 (0x5655360c2a31 in /home/hong/anaconda3/envs/dmlab/bin/python)\nframe #48: <unknown function> + 0x2012f3 (0x56553615e2f3 in /home/hong/anaconda3/envs/dmlab/bin/python)\nframe #49: _PyMethodDef_RawFastCallKeywords + 0x21c (0x5655360c28bc in /home/hong/anaconda3/envs/dmlab/bin/python)\nframe #50: _PyCFunction_FastCallKeywords + 0x21 (0x5655360c2a31 in /home/hong/anaconda3/envs/dmlab/bin/python)\nframe #51: _PyEval_EvalFrameDefault + 0x46f5 (0x56553612e795 in /home/hong/anaconda3/envs/dmlab/bin/python)\nframe #52: _PyEval_EvalCodeWithName + 0x5da (0x565536071b0a in /home/hong/anaconda3/envs/dmlab/bin/python)\nframe #53: _PyFunction_FastCallKeywords + 0x387 (0x5655360c2107 in /home/hong/anaconda3/envs/dmlab/bin/python)\nframe #54: _PyEval_EvalFrameDefault + 0x6a0 (0x56553612a740 in /home/hong/anaconda3/envs/dmlab/bin/python)\nframe #55: <unknown function> + 0x16d449 (0x5655360ca449 in /home/hong/anaconda3/envs/dmlab/bin/python)\nframe #56: _PyMethodDef_RawFastCallKeywords + 0xe9 (0x5655360c2789 in /home/hong/anaconda3/envs/dmlab/bin/python)\nframe #57: _PyCFunction_FastCallKeywords + 0x21 (0x5655360c2a31 in /home/hong/anaconda3/envs/dmlab/bin/python)\nframe #58: <unknown function> + 0x2012f3 (0x56553615e2f3 in /home/hong/anaconda3/envs/dmlab/bin/python)\nframe #59: _PyMethodDef_RawFastCallKeywords + 0x21c (0x5655360c28bc in /home/hong/anaconda3/envs/dmlab/bin/python)\nframe #60: _PyCFunction_FastCallKeywords + 0x21 (0x5655360c2a31 in /home/hong/anaconda3/envs/dmlab/bin/python)\nframe #61: _PyEval_EvalFrameDefault + 0x46f5 (0x56553612e795 in /home/hong/anaconda3/envs/dmlab/bin/python)\nframe #62: _PyEval_EvalCodeWithName + 0x5da (0x565536071b0a in /home/hong/anaconda3/envs/dmlab/bin/python)\nframe #63: _PyFunction_FastCallKeywords + 0x387 (0x5655360c2107 in /home/hong/anaconda3/envs/dmlab/bin/python)\n",
     "output_type": "error",
     "traceback": [
      "\u001b[0;31m---------------------------------------------------------------------------\u001b[0m",
      "\u001b[0;31mRuntimeError\u001b[0m                              Traceback (most recent call last)",
      "\u001b[0;32m<ipython-input-10-d415047ca3d7>\u001b[0m in \u001b[0;36m<module>\u001b[0;34m\u001b[0m\n\u001b[1;32m     20\u001b[0m \u001b[0mtrain_loader\u001b[0m \u001b[0;34m=\u001b[0m \u001b[0mDataLoader\u001b[0m\u001b[0;34m(\u001b[0m\u001b[0mtrain_data\u001b[0m\u001b[0;34m,\u001b[0m \u001b[0mbatch_size\u001b[0m\u001b[0;34m=\u001b[0m\u001b[0mbatch_size\u001b[0m\u001b[0;34m,\u001b[0m \u001b[0mshuffle\u001b[0m\u001b[0;34m=\u001b[0m\u001b[0;32mTrue\u001b[0m\u001b[0;34m,\u001b[0m \u001b[0mnum_workers\u001b[0m\u001b[0;34m=\u001b[0m\u001b[0;36m16\u001b[0m\u001b[0;34m,\u001b[0m \u001b[0mpin_memory\u001b[0m\u001b[0;34m=\u001b[0m\u001b[0;32mTrue\u001b[0m\u001b[0;34m)\u001b[0m\u001b[0;34m\u001b[0m\u001b[0;34m\u001b[0m\u001b[0m\n\u001b[1;32m     21\u001b[0m \u001b[0;34m\u001b[0m\u001b[0m\n\u001b[0;32m---> 22\u001b[0;31m \u001b[0mmodel\u001b[0m \u001b[0;34m=\u001b[0m \u001b[0mNet\u001b[0m\u001b[0;34m(\u001b[0m\u001b[0mnum_class\u001b[0m\u001b[0;34m=\u001b[0m\u001b[0mlen\u001b[0m\u001b[0;34m(\u001b[0m\u001b[0mtrain_data\u001b[0m\u001b[0;34m.\u001b[0m\u001b[0mclasses\u001b[0m\u001b[0;34m)\u001b[0m\u001b[0;34m,\u001b[0m \u001b[0mpretrained_path\u001b[0m\u001b[0;34m=\u001b[0m\u001b[0mmodel_path\u001b[0m\u001b[0;34m)\u001b[0m\u001b[0;34m.\u001b[0m\u001b[0mcuda\u001b[0m\u001b[0;34m(\u001b[0m\u001b[0;34m)\u001b[0m\u001b[0;34m\u001b[0m\u001b[0;34m\u001b[0m\u001b[0m\n\u001b[0m\u001b[1;32m     23\u001b[0m \u001b[0;32mfor\u001b[0m \u001b[0mparam\u001b[0m \u001b[0;32min\u001b[0m \u001b[0mmodel\u001b[0m\u001b[0;34m.\u001b[0m\u001b[0mf\u001b[0m\u001b[0;34m.\u001b[0m\u001b[0mparameters\u001b[0m\u001b[0;34m(\u001b[0m\u001b[0;34m)\u001b[0m\u001b[0;34m:\u001b[0m\u001b[0;34m\u001b[0m\u001b[0;34m\u001b[0m\u001b[0m\n\u001b[1;32m     24\u001b[0m     \u001b[0mparam\u001b[0m\u001b[0;34m.\u001b[0m\u001b[0mrequires_grad\u001b[0m \u001b[0;34m=\u001b[0m \u001b[0;32mFalse\u001b[0m\u001b[0;34m\u001b[0m\u001b[0;34m\u001b[0m\u001b[0m\n",
      "\u001b[0;32m<ipython-input-9-f0dbcd2518ae>\u001b[0m in \u001b[0;36m__init__\u001b[0;34m(self, num_class, pretrained_path)\u001b[0m\n\u001b[1;32m     15\u001b[0m         \u001b[0;31m# classifier\u001b[0m\u001b[0;34m\u001b[0m\u001b[0;34m\u001b[0m\u001b[0;34m\u001b[0m\u001b[0m\n\u001b[1;32m     16\u001b[0m         \u001b[0mself\u001b[0m\u001b[0;34m.\u001b[0m\u001b[0mfc\u001b[0m \u001b[0;34m=\u001b[0m \u001b[0mnn\u001b[0m\u001b[0;34m.\u001b[0m\u001b[0mLinear\u001b[0m\u001b[0;34m(\u001b[0m\u001b[0;36m2048\u001b[0m\u001b[0;34m,\u001b[0m \u001b[0mnum_class\u001b[0m\u001b[0;34m,\u001b[0m \u001b[0mbias\u001b[0m\u001b[0;34m=\u001b[0m\u001b[0;32mTrue\u001b[0m\u001b[0;34m)\u001b[0m\u001b[0;34m\u001b[0m\u001b[0;34m\u001b[0m\u001b[0m\n\u001b[0;32m---> 17\u001b[0;31m         \u001b[0mself\u001b[0m\u001b[0;34m.\u001b[0m\u001b[0mload_state_dict\u001b[0m\u001b[0;34m(\u001b[0m\u001b[0mtorch\u001b[0m\u001b[0;34m.\u001b[0m\u001b[0mjit\u001b[0m\u001b[0;34m.\u001b[0m\u001b[0mload\u001b[0m\u001b[0;34m(\u001b[0m\u001b[0mpretrained_path\u001b[0m\u001b[0;34m,\u001b[0m \u001b[0mmap_location\u001b[0m\u001b[0;34m=\u001b[0m\u001b[0;34m'cpu'\u001b[0m\u001b[0;34m)\u001b[0m\u001b[0;34m,\u001b[0m \u001b[0mstrict\u001b[0m\u001b[0;34m=\u001b[0m\u001b[0;32mFalse\u001b[0m\u001b[0;34m)\u001b[0m\u001b[0;34m\u001b[0m\u001b[0;34m\u001b[0m\u001b[0m\n\u001b[0m\u001b[1;32m     18\u001b[0m \u001b[0;34m\u001b[0m\u001b[0m\n\u001b[1;32m     19\u001b[0m     \u001b[0;32mdef\u001b[0m \u001b[0mforward\u001b[0m\u001b[0;34m(\u001b[0m\u001b[0mself\u001b[0m\u001b[0;34m,\u001b[0m \u001b[0mx\u001b[0m\u001b[0;34m)\u001b[0m\u001b[0;34m:\u001b[0m\u001b[0;34m\u001b[0m\u001b[0;34m\u001b[0m\u001b[0m\n",
      "\u001b[0;32m~/anaconda3/envs/dmlab/lib/python3.7/site-packages/torch/jit/__init__.py\u001b[0m in \u001b[0;36mload\u001b[0;34m(f, map_location, _extra_files)\u001b[0m\n\u001b[1;32m    237\u001b[0m             \u001b[0;34m(\u001b[0m\u001b[0msys\u001b[0m\u001b[0;34m.\u001b[0m\u001b[0mversion_info\u001b[0m\u001b[0;34m[\u001b[0m\u001b[0;36m0\u001b[0m\u001b[0;34m]\u001b[0m \u001b[0;34m==\u001b[0m \u001b[0;36m2\u001b[0m \u001b[0;32mand\u001b[0m \u001b[0misinstance\u001b[0m\u001b[0;34m(\u001b[0m\u001b[0mf\u001b[0m\u001b[0;34m,\u001b[0m \u001b[0municode\u001b[0m\u001b[0;34m)\u001b[0m\u001b[0;34m)\u001b[0m \u001b[0;32mor\u001b[0m\u001b[0;31m \u001b[0m\u001b[0;31m\\\u001b[0m\u001b[0;34m\u001b[0m\u001b[0;34m\u001b[0m\u001b[0m\n\u001b[1;32m    238\u001b[0m             \u001b[0;34m(\u001b[0m\u001b[0msys\u001b[0m\u001b[0;34m.\u001b[0m\u001b[0mversion_info\u001b[0m\u001b[0;34m[\u001b[0m\u001b[0;36m0\u001b[0m\u001b[0;34m]\u001b[0m \u001b[0;34m==\u001b[0m \u001b[0;36m3\u001b[0m \u001b[0;32mand\u001b[0m \u001b[0misinstance\u001b[0m\u001b[0;34m(\u001b[0m\u001b[0mf\u001b[0m\u001b[0;34m,\u001b[0m \u001b[0mpathlib\u001b[0m\u001b[0;34m.\u001b[0m\u001b[0mPath\u001b[0m\u001b[0;34m)\u001b[0m\u001b[0;34m)\u001b[0m\u001b[0;34m:\u001b[0m\u001b[0;34m\u001b[0m\u001b[0;34m\u001b[0m\u001b[0m\n\u001b[0;32m--> 239\u001b[0;31m         \u001b[0mcpp_module\u001b[0m \u001b[0;34m=\u001b[0m \u001b[0mtorch\u001b[0m\u001b[0;34m.\u001b[0m\u001b[0m_C\u001b[0m\u001b[0;34m.\u001b[0m\u001b[0mimport_ir_module\u001b[0m\u001b[0;34m(\u001b[0m\u001b[0mcu\u001b[0m\u001b[0;34m,\u001b[0m \u001b[0mf\u001b[0m\u001b[0;34m,\u001b[0m \u001b[0mmap_location\u001b[0m\u001b[0;34m,\u001b[0m \u001b[0m_extra_files\u001b[0m\u001b[0;34m)\u001b[0m\u001b[0;34m\u001b[0m\u001b[0;34m\u001b[0m\u001b[0m\n\u001b[0m\u001b[1;32m    240\u001b[0m     \u001b[0;32melse\u001b[0m\u001b[0;34m:\u001b[0m\u001b[0;34m\u001b[0m\u001b[0;34m\u001b[0m\u001b[0m\n\u001b[1;32m    241\u001b[0m         \u001b[0mcpp_module\u001b[0m \u001b[0;34m=\u001b[0m \u001b[0mtorch\u001b[0m\u001b[0;34m.\u001b[0m\u001b[0m_C\u001b[0m\u001b[0;34m.\u001b[0m\u001b[0mimport_ir_module_from_buffer\u001b[0m\u001b[0;34m(\u001b[0m\u001b[0mcu\u001b[0m\u001b[0;34m,\u001b[0m \u001b[0mf\u001b[0m\u001b[0;34m.\u001b[0m\u001b[0mread\u001b[0m\u001b[0;34m(\u001b[0m\u001b[0;34m)\u001b[0m\u001b[0;34m,\u001b[0m \u001b[0mmap_location\u001b[0m\u001b[0;34m,\u001b[0m \u001b[0m_extra_files\u001b[0m\u001b[0;34m)\u001b[0m\u001b[0;34m\u001b[0m\u001b[0;34m\u001b[0m\u001b[0m\n",
      "\u001b[0;31mRuntimeError\u001b[0m: version_number <= kMaxSupportedFileFormatVersion INTERNAL ASSERT FAILED at /tmp/pip-req-build-7mav6f4d/caffe2/serialize/inline_container.cc:131, please report a bug to PyTorch. Attempted to read a PyTorch file with version 3, but the maximum supported version for reading is 1. Your PyTorch installation may be too old. (init at /tmp/pip-req-build-7mav6f4d/caffe2/serialize/inline_container.cc:131)\nframe #0: c10::Error::Error(c10::SourceLocation, std::__cxx11::basic_string<char, std::char_traits<char>, std::allocator<char> > const&) + 0x6d (0x7f65d82b1e7d in /home/hong/anaconda3/envs/dmlab/lib/python3.7/site-packages/torch/lib/libc10.so)\nframe #1: caffe2::serialize::PyTorchStreamReader::init() + 0x246d (0x7f65c7a31bbd in /home/hong/anaconda3/envs/dmlab/lib/python3.7/site-packages/torch/lib/libtorch.so)\nframe #2: caffe2::serialize::PyTorchStreamReader::PyTorchStreamReader(std::__cxx11::basic_string<char, std::char_traits<char>, std::allocator<char> > const&) + 0x69 (0x7f65c7a33079 in /home/hong/anaconda3/envs/dmlab/lib/python3.7/site-packages/torch/lib/libtorch.so)\nframe #3: torch::jit::import_ir_module(std::shared_ptr<torch::jit::script::CompilationUnit>, std::__cxx11::basic_string<char, std::char_traits<char>, std::allocator<char> > const&, c10::optional<c10::Device>, std::unordered_map<std::__cxx11::basic_string<char, std::char_traits<char>, std::allocator<char> >, std::__cxx11::basic_string<char, std::char_traits<char>, std::allocator<char> >, std::hash<std::__cxx11::basic_string<char, std::char_traits<char>, std::allocator<char> > >, std::equal_to<std::__cxx11::basic_string<char, std::char_traits<char>, std::allocator<char> > >, std::allocator<std::pair<std::__cxx11::basic_string<char, std::char_traits<char>, std::allocator<char> > const, std::__cxx11::basic_string<char, std::char_traits<char>, std::allocator<char> > > > >&) + 0x4d (0x7f65c8bf93cd in /home/hong/anaconda3/envs/dmlab/lib/python3.7/site-packages/torch/lib/libtorch.so)\nframe #4: <unknown function> + 0x592fba (0x7f65ca9f0fba in /home/hong/anaconda3/envs/dmlab/lib/python3.7/site-packages/torch/lib/libtorch_python.so)\nframe #5: <unknown function> + 0x1df8b6 (0x7f65ca63d8b6 in /home/hong/anaconda3/envs/dmlab/lib/python3.7/site-packages/torch/lib/libtorch_python.so)\nframe #6: _PyMethodDef_RawFastCallKeywords + 0x274 (0x5655360c2914 in /home/hong/anaconda3/envs/dmlab/bin/python)\nframe #7: _PyCFunction_FastCallKeywords + 0x21 (0x5655360c2a31 in /home/hong/anaconda3/envs/dmlab/bin/python)\nframe #8: _PyEval_EvalFrameDefault + 0x4e1d (0x56553612eebd in /home/hong/anaconda3/envs/dmlab/bin/python)\nframe #9: _PyEval_EvalCodeWithName + 0x2f9 (0x565536071829 in /home/hong/anaconda3/envs/dmlab/bin/python)\nframe #10: _PyFunction_FastCallKeywords + 0x387 (0x5655360c2107 in /home/hong/anaconda3/envs/dmlab/bin/python)\nframe #11: _PyEval_EvalFrameDefault + 0x14e5 (0x56553612b585 in /home/hong/anaconda3/envs/dmlab/bin/python)\nframe #12: _PyEval_EvalCodeWithName + 0x5da (0x565536071b0a in /home/hong/anaconda3/envs/dmlab/bin/python)\nframe #13: _PyFunction_FastCallDict + 0x400 (0x565536072b50 in /home/hong/anaconda3/envs/dmlab/bin/python)\nframe #14: _PyObject_Call_Prepend + 0x63 (0x5655360914d3 in /home/hong/anaconda3/envs/dmlab/bin/python)\nframe #15: <unknown function> + 0x16bd5a (0x5655360c8d5a in /home/hong/anaconda3/envs/dmlab/bin/python)\nframe #16: _PyObject_FastCallKeywords + 0x128 (0x5655360c9968 in /home/hong/anaconda3/envs/dmlab/bin/python)\nframe #17: _PyEval_EvalFrameDefault + 0x55e8 (0x56553612f688 in /home/hong/anaconda3/envs/dmlab/bin/python)\nframe #18: _PyEval_EvalCodeWithName + 0x2f9 (0x565536071829 in /home/hong/anaconda3/envs/dmlab/bin/python)\nframe #19: PyEval_EvalCodeEx + 0x44 (0x565536072714 in /home/hong/anaconda3/envs/dmlab/bin/python)\nframe #20: PyEval_EvalCode + 0x1c (0x56553607273c in /home/hong/anaconda3/envs/dmlab/bin/python)\nframe #21: <unknown function> + 0x1dcf1d (0x565536139f1d in /home/hong/anaconda3/envs/dmlab/bin/python)\nframe #22: _PyMethodDef_RawFastCallKeywords + 0xe9 (0x5655360c2789 in /home/hong/anaconda3/envs/dmlab/bin/python)\nframe #23: _PyCFunction_FastCallKeywords + 0x21 (0x5655360c2a31 in /home/hong/anaconda3/envs/dmlab/bin/python)\nframe #24: _PyEval_EvalFrameDefault + 0x46f5 (0x56553612e795 in /home/hong/anaconda3/envs/dmlab/bin/python)\nframe #25: _PyGen_Send + 0x2a2 (0x5655360ca982 in /home/hong/anaconda3/envs/dmlab/bin/python)\nframe #26: _PyEval_EvalFrameDefault + 0x1a84 (0x56553612bb24 in /home/hong/anaconda3/envs/dmlab/bin/python)\nframe #27: _PyGen_Send + 0x2a2 (0x5655360ca982 in /home/hong/anaconda3/envs/dmlab/bin/python)\nframe #28: _PyEval_EvalFrameDefault + 0x1a84 (0x56553612bb24 in /home/hong/anaconda3/envs/dmlab/bin/python)\nframe #29: _PyGen_Send + 0x2a2 (0x5655360ca982 in /home/hong/anaconda3/envs/dmlab/bin/python)\nframe #30: _PyMethodDef_RawFastCallKeywords + 0x8d (0x5655360c272d in /home/hong/anaconda3/envs/dmlab/bin/python)\nframe #31: _PyMethodDescr_FastCallKeywords + 0x4f (0x5655360c97af in /home/hong/anaconda3/envs/dmlab/bin/python)\nframe #32: _PyEval_EvalFrameDefault + 0x4bdc (0x56553612ec7c in /home/hong/anaconda3/envs/dmlab/bin/python)\nframe #33: _PyFunction_FastCallKeywords + 0xfb (0x5655360c1e7b in /home/hong/anaconda3/envs/dmlab/bin/python)\nframe #34: _PyEval_EvalFrameDefault + 0x416 (0x56553612a4b6 in /home/hong/anaconda3/envs/dmlab/bin/python)\nframe #35: _PyFunction_FastCallKeywords + 0xfb (0x5655360c1e7b in /home/hong/anaconda3/envs/dmlab/bin/python)\nframe #36: _PyEval_EvalFrameDefault + 0x6a0 (0x56553612a740 in /home/hong/anaconda3/envs/dmlab/bin/python)\nframe #37: _PyEval_EvalCodeWithName + 0x2f9 (0x565536071829 in /home/hong/anaconda3/envs/dmlab/bin/python)\nframe #38: _PyFunction_FastCallDict + 0x400 (0x565536072b50 in /home/hong/anaconda3/envs/dmlab/bin/python)\nframe #39: _PyObject_Call_Prepend + 0x63 (0x5655360914d3 in /home/hong/anaconda3/envs/dmlab/bin/python)\nframe #40: PyObject_Call + 0x6e (0x565536083ffe in /home/hong/anaconda3/envs/dmlab/bin/python)\nframe #41: _PyEval_EvalFrameDefault + 0x1e4a (0x56553612beea in /home/hong/anaconda3/envs/dmlab/bin/python)\nframe #42: _PyEval_EvalCodeWithName + 0x5da (0x565536071b0a in /home/hong/anaconda3/envs/dmlab/bin/python)\nframe #43: _PyFunction_FastCallKeywords + 0x387 (0x5655360c2107 in /home/hong/anaconda3/envs/dmlab/bin/python)\nframe #44: _PyEval_EvalFrameDefault + 0x14e5 (0x56553612b585 in /home/hong/anaconda3/envs/dmlab/bin/python)\nframe #45: <unknown function> + 0x16d449 (0x5655360ca449 in /home/hong/anaconda3/envs/dmlab/bin/python)\nframe #46: _PyMethodDef_RawFastCallKeywords + 0xe9 (0x5655360c2789 in /home/hong/anaconda3/envs/dmlab/bin/python)\nframe #47: _PyCFunction_FastCallKeywords + 0x21 (0x5655360c2a31 in /home/hong/anaconda3/envs/dmlab/bin/python)\nframe #48: <unknown function> + 0x2012f3 (0x56553615e2f3 in /home/hong/anaconda3/envs/dmlab/bin/python)\nframe #49: _PyMethodDef_RawFastCallKeywords + 0x21c (0x5655360c28bc in /home/hong/anaconda3/envs/dmlab/bin/python)\nframe #50: _PyCFunction_FastCallKeywords + 0x21 (0x5655360c2a31 in /home/hong/anaconda3/envs/dmlab/bin/python)\nframe #51: _PyEval_EvalFrameDefault + 0x46f5 (0x56553612e795 in /home/hong/anaconda3/envs/dmlab/bin/python)\nframe #52: _PyEval_EvalCodeWithName + 0x5da (0x565536071b0a in /home/hong/anaconda3/envs/dmlab/bin/python)\nframe #53: _PyFunction_FastCallKeywords + 0x387 (0x5655360c2107 in /home/hong/anaconda3/envs/dmlab/bin/python)\nframe #54: _PyEval_EvalFrameDefault + 0x6a0 (0x56553612a740 in /home/hong/anaconda3/envs/dmlab/bin/python)\nframe #55: <unknown function> + 0x16d449 (0x5655360ca449 in /home/hong/anaconda3/envs/dmlab/bin/python)\nframe #56: _PyMethodDef_RawFastCallKeywords + 0xe9 (0x5655360c2789 in /home/hong/anaconda3/envs/dmlab/bin/python)\nframe #57: _PyCFunction_FastCallKeywords + 0x21 (0x5655360c2a31 in /home/hong/anaconda3/envs/dmlab/bin/python)\nframe #58: <unknown function> + 0x2012f3 (0x56553615e2f3 in /home/hong/anaconda3/envs/dmlab/bin/python)\nframe #59: _PyMethodDef_RawFastCallKeywords + 0x21c (0x5655360c28bc in /home/hong/anaconda3/envs/dmlab/bin/python)\nframe #60: _PyCFunction_FastCallKeywords + 0x21 (0x5655360c2a31 in /home/hong/anaconda3/envs/dmlab/bin/python)\nframe #61: _PyEval_EvalFrameDefault + 0x46f5 (0x56553612e795 in /home/hong/anaconda3/envs/dmlab/bin/python)\nframe #62: _PyEval_EvalCodeWithName + 0x5da (0x565536071b0a in /home/hong/anaconda3/envs/dmlab/bin/python)\nframe #63: _PyFunction_FastCallKeywords + 0x387 (0x5655360c2107 in /home/hong/anaconda3/envs/dmlab/bin/python)\n"
     ]
    }
   ],
   "source": [
    "#Transfer Learning\n",
    "\n",
    "from torchvision import transforms\n",
    "import torch.optim as optim\n",
    "from torch.utils.data import DataLoader\n",
    "from torchvision.datasets import STL10\n",
    "\n",
    "train_transform = transforms.Compose([\n",
    "    transforms.Resize(32),\n",
    "    transforms.RandomResizedCrop(32),\n",
    "    transforms.RandomHorizontalFlip(p=0.5),\n",
    "    transforms.RandomApply([transforms.ColorJitter(0.4, 0.4, 0.4, 0.1)], p=0.8),\n",
    "    transforms.RandomGrayscale(p=0.2),\n",
    "    transforms.ToTensor(),\n",
    "    transforms.Normalize([0.4914, 0.4822, 0.4465], [0.2023, 0.1994, 0.2010])])\n",
    "\n",
    "model_path, batch_size, epochs = 'results/model400.pth', 128, 100\n",
    "\n",
    "train_data = STL10(root='.data/', split='train', transform=train_transform, download=True)\n",
    "train_loader = DataLoader(train_data, batch_size=batch_size, shuffle=True, num_workers=16, pin_memory=True)\n",
    "\n",
    "model = Net(num_class=len(train_data.classes), pretrained_path=model_path).cuda()\n",
    "for param in model.f.parameters():\n",
    "    param.requires_grad = False\n",
    "\n",
    "optimizer = optim.Adam(model.fc.parameters(), lr=1e-3, weight_decay=1e-6)\n",
    "loss_criterion = nn.CrossEntropyLoss()\n",
    "results = {'train_loss': [], 'train_acc@1': [], 'train_acc@5': []}\n",
    "\n",
    "for epoch in range(1, epochs + 1):\n",
    "    train_loss, train_acc_1, train_acc_5 = train_val(model, train_loader, optimizer)\n",
    "    results['train_loss'].append(train_loss)\n",
    "    results['train_acc@1'].append(train_acc_1)\n",
    "    results['train_acc@5'].append(train_acc_5)\n",
    "    data_frame = pd.DataFrame(data=results, index=range(1, epoch + 1))\n",
    "    data_frame.to_csv('results/linear_statistics.csv', index_label='epoch')\n",
    "\n",
    "torch.save(model.state_dict(), 'results/linear_model_stl_modi.pth')"
   ]
  },
  {
   "cell_type": "code",
   "execution_count": null,
   "id": "prepared-awareness",
   "metadata": {},
   "outputs": [],
   "source": [
    "from torchvision import transforms\n",
    "from torch.utils.data import DataLoader\n",
    "from torchvision.datasets import STL10\n",
    "import torch.nn as nn\n",
    "\n",
    "batch_size = 128\n",
    "loss_criterion = nn.CrossEntropyLoss()\n",
    "\n",
    "test_transform = transforms.Compose([\n",
    "    transforms.ToTensor(),\n",
    "    transforms.Normalize([0.4914, 0.4822, 0.4465], [0.2023, 0.1994, 0.2010])])\n",
    "\n",
    "test_data = STL10(root='.data/', split='test', transform=test_transform, download=True)\n",
    "train_loader = DataLoader(test_data, batch_size=batch_size, shuffle=True, num_workers=16, pin_memory=True)\n",
    "\n",
    "test_results = {'test_loss': [], 'test_acc@1': [], 'test_acc@5': []}\n",
    "model_path = 'results/linear_model_stl_modi.pth'\n",
    "model = Net(num_class=len(test_data.classes), pretrained_path=model_path).cuda()\n",
    "test_loss, test_acc_1, test_acc_5 = train_val(model, test_loader, None)\n",
    "test_results['test_loss'].append(test_loss)\n",
    "test_results['test_acc@1'].append(test_acc_1)\n",
    "test_results['test_acc@5'].append(test_acc_5)\n",
    "print(test_results)"
   ]
  },
  {
   "cell_type": "code",
   "execution_count": null,
   "id": "sweet-talent",
   "metadata": {},
   "outputs": [],
   "source": []
  }
 ],
 "metadata": {
  "kernelspec": {
   "display_name": "Python 3",
   "language": "python",
   "name": "python3"
  },
  "language_info": {
   "codemirror_mode": {
    "name": "ipython",
    "version": 3
   },
   "file_extension": ".py",
   "mimetype": "text/x-python",
   "name": "python",
   "nbconvert_exporter": "python",
   "pygments_lexer": "ipython3",
   "version": "3.7.10"
  }
 },
 "nbformat": 4,
 "nbformat_minor": 5
}
